{
 "cells": [
  {
   "cell_type": "markdown",
   "id": "2dc1d6e1",
   "metadata": {},
   "source": [
    "**Imports**"
   ]
  },
  {
   "cell_type": "code",
   "execution_count": 1,
   "id": "bb21e215",
   "metadata": {},
   "outputs": [],
   "source": [
    "\n",
    "import os\n",
    "import json\n",
    "import pathlib\n",
    "import pickle\n",
    "\n",
    "import numpy as np\n",
    "import pandas as pd\n",
    "import hyperopt\n",
    "\n",
    "import sklearn as sk\n",
    "import sklearn.pipeline\n",
    "\n",
    "import pyplotterlib.standard.plotters as ppl\n",
    "\n",
    "\n",
    "import project_path\n",
    "import model_wrappers as modelWrapHelp\n",
    "import preproc_pipes as preProcPipeHelp\n",
    "import train_pipes as trainPipeHelp"
   ]
  },
  {
   "cell_type": "markdown",
   "id": "d7771063",
   "metadata": {},
   "source": [
    "**Configuration Variables**"
   ]
  },
  {
   "cell_type": "code",
   "execution_count": 2,
   "id": "e6af34e2",
   "metadata": {},
   "outputs": [],
   "source": [
    "#Both need to be True on first run through\n",
    "RERUN_SINGLE_HP = False\n",
    "RERUN_HYPEROPT = False\n",
    "\n",
    "#\n",
    "TRAIN_PATH = os.path.abspath( os.path.join(\"..\",\"..\",\"raw_data\",\"train.csv\")  )\n",
    "\n",
    "#\n",
    "SAVE_FOLDER = os.path.join( os.getcwd(), \"xgboost_tune\" )\n",
    "\n",
    "#\n",
    "RANDOM_SEEDS = [78509, 64116, 69378, 66115, 83655]\n",
    "\n",
    "#Also same features used for PCA\n",
    "FEATS_TO_CLUSTER = ['OverallQual','GrLivArea','TotalBsmtSF','Neighborhood_m10','BsmtFinSF1',\n",
    "            'GarageFinish','KitchenQual','GarageArea','SaleCondition_m10','LotArea',\n",
    "            'MoSold','LotShape', 'FireplaceQu','BsmtExposure', 'TotRmsAbvGrd',\n",
    "            'YearRemodAdd', 'MSSubClass','WoodDeckSF','MasVnrArea']\n",
    "N_KMEANS_CLUSTERS = 2\n",
    "\n",
    "#\n",
    "EXTRA_FEATS = [\"BsmtFractUnfurnished\", \"GarageAreaTimesFinish\", \"NumbBsmtBath\", \"NumbBath\",\n",
    "               \"OverallQualTimesCond\", \"PoolQualTimesCond\", \"PorchLikeArea\", \"Spaciousness\",\n",
    "               \"TotalSFLiv\", \"TotalSFLivOverLotArea\", \"YearSold_Fract\"]\n",
    "\n",
    "\n",
    "#\n",
    "TARG_ENC_FEATS = [\"Neighborhood\", \"Exterior1st\", \"Condition1\", \"HouseStyle\", \"GarageType\",\n",
    "                  \"Foundation\", \"LotConfig\", \"SaleType\", \"RoofMatl\", \"MSZoning\", \"SaleCondition\",\n",
    "                  \"RoofStyle\"]\n",
    "TARG_ENC_MVAL = 10\n",
    "\n",
    "#\n",
    "TOP_CMI = ['TotalSFLiv', 'YearBuilt', 'OverallQualTimesCond', 'BsmtUnfSF', 'LotArea',\n",
    "                  'GarageAreaTimesFinish', 'BsmtQual', 'Neighborhood', 'Neighborhood_m10',\n",
    "                  'TotRmsAbvGrd', 'PorchLikeArea',\n",
    "                  'SaleCondition', 'BsmtFinSF1', 'GrLivArea', 'KitchenQual', 'BsmtExposure',\n",
    "                  'BsmtFinType1', 'FireplaceQu', 'LandContour', 'HeatingQC', 'MasVnrArea']\n",
    "\n",
    "#\n",
    "_currKwargs = {\"constrainedLayout\":True, \"figHeightPerRow\":2.5, \"figWidthPerCol\":4, \"nColsGrid\":4}\n",
    "RECT_PLOTTER = ppl.RectMultiPlotter(**_currKwargs)\n"
   ]
  },
  {
   "cell_type": "markdown",
   "id": "e8a7f9a7",
   "metadata": {},
   "source": [
    "**Define the features to use**"
   ]
  },
  {
   "cell_type": "code",
   "execution_count": 3,
   "id": "1efc0f31",
   "metadata": {},
   "outputs": [],
   "source": [
    "FEATS = list(TOP_CMI) + [\"clusterIdx\", \"cDist_0\", \"cDist_1\", \"clusterMinDist\"] + [\"pc_0\"]"
   ]
  },
  {
   "cell_type": "markdown",
   "id": "7c3b1428",
   "metadata": {},
   "source": [
    "**Create our save folder**"
   ]
  },
  {
   "cell_type": "code",
   "execution_count": 4,
   "id": "b4f6d513",
   "metadata": {},
   "outputs": [],
   "source": [
    "pathlib.Path(SAVE_FOLDER).mkdir(exist_ok=True, parents=True)"
   ]
  },
  {
   "cell_type": "markdown",
   "id": "8aca0c8d",
   "metadata": {},
   "source": [
    "**Import data**"
   ]
  },
  {
   "cell_type": "code",
   "execution_count": 5,
   "id": "7b2d5b92",
   "metadata": {},
   "outputs": [],
   "source": [
    "RAW_TRAIN = pd.read_csv(TRAIN_PATH)"
   ]
  },
  {
   "cell_type": "markdown",
   "id": "d27f80fd",
   "metadata": {},
   "source": [
    "**Apply shared pre-processing options**"
   ]
  },
  {
   "cell_type": "code",
   "execution_count": 6,
   "id": "a4ffee50",
   "metadata": {},
   "outputs": [],
   "source": [
    "#Remove anything from the training set i know to be an outlier [from results in other notebooks]\n",
    "_outlierIDs = [524, 945, 1299]\n",
    "\n",
    "#Features we add before any factorisation/cleaning\n",
    "_preFactorFeats = [\"FenceQual\", \"NumbStoreys_fromHouseStyle\"]\n",
    "\n",
    "#\n",
    "_ordEncoder = preProcPipeHelp.OrdinalEncoder( preProcPipeHelp.getStandardOrdinalEncodeKeys() )\n",
    "\n",
    "#\n",
    "_preProcComps = [ (\"Add some pre-factorisation features\", preProcPipeHelp.EngFeatureAdder(_preFactorFeats) ),\n",
    "                  (\"Remove outliers\", preProcPipeHelp.RemoveOutliersById(_outlierIDs) ),\n",
    "                 (\"Replace text values with basic ordinal encoding\", _ordEncoder),\n",
    "                 (\"Factorise any remaining categorical groups\", preProcPipeHelp.FactorizeRemainingCateGroups() ), ]\n",
    "\n",
    "preProcPipe = sk.pipeline.Pipeline(_preProcComps)\n"
   ]
  },
  {
   "cell_type": "code",
   "execution_count": 7,
   "id": "aaf1473f",
   "metadata": {},
   "outputs": [],
   "source": [
    "PROC_TRAIN = preProcPipe.fit_transform(RAW_TRAIN)"
   ]
  },
  {
   "cell_type": "markdown",
   "id": "a1958c29",
   "metadata": {},
   "source": [
    "**Create a training pipe; applied to all at training time**"
   ]
  },
  {
   "cell_type": "code",
   "execution_count": 8,
   "id": "a532a4b7",
   "metadata": {},
   "outputs": [],
   "source": [
    "#\n",
    "_targEncodeTrain = trainPipeHelp.MEncodeMultiple(TARG_ENC_FEATS, mVal=TARG_ENC_MVAL)\n",
    "_pcaPipe = trainPipeHelp.AddPCA(FEATS_TO_CLUSTER, nComponents=1)\n",
    "_clusterPipe = trainPipeHelp.AddKMeansClusters(FEATS_TO_CLUSTER, N_KMEANS_CLUSTERS, randomState=RANDOM_SEEDS[0],\n",
    "                                               useMinDist=True)\n",
    "\n",
    "_trainPipeComps = [ (\"Impute NaN values for numerical fields\", trainPipeHelp.TransformNumericalNaN()),\n",
    "                    (\"Add remaining engineered features\", preProcPipeHelp.EngFeatureAdder(EXTRA_FEATS) ),\n",
    "                    (\"Add target encoded features\", _targEncodeTrain ),\n",
    "                    (\"Add PCA component(s)\", _pcaPipe),\n",
    "                    (\"Add kmeans cluster information\", _clusterPipe)\n",
    "                  ]\n",
    "TRAIN_PIPE = sk.pipeline.Pipeline(_trainPipeComps)\n"
   ]
  },
  {
   "cell_type": "code",
   "execution_count": null,
   "id": "93600bfe",
   "metadata": {},
   "outputs": [],
   "source": []
  },
  {
   "cell_type": "markdown",
   "id": "157afef3",
   "metadata": {},
   "source": [
    "**Do a small amount of single-variable exploration before doing a proper random search**"
   ]
  },
  {
   "cell_type": "code",
   "execution_count": 9,
   "id": "af35ab79",
   "metadata": {},
   "outputs": [],
   "source": [
    "def getMeanAndStdDevFromCV(key, vals):\n",
    "    useKwargs = [ {key:val} for val in vals]\n",
    "    meanVals, stdDevs = list(), list()\n",
    "    for opts in useKwargs:\n",
    "        currVals = _calcScoresFromBoostKwargs(**opts)\n",
    "        meanVals.append( np.mean(currVals) )\n",
    "        stdDevs.append( np.std(currVals) )\n",
    "    return meanVals, stdDevs\n",
    "\n",
    "\n",
    "#\n",
    "def _calcScoresFromBoostKwargs(**kwargs):\n",
    "    inpFrame, inpFeats = PROC_TRAIN, FEATS\n",
    "    randomSeeds = RANDOM_SEEDS\n",
    "    return _scoreForRandomSeedShuffles(inpFrame, inpFeats, randomSeeds, logTarget=True, boostKwargs=kwargs)\n",
    "\n",
    "#\n",
    "def _scoreForRandomSeedShuffles(inpFrame, inpFeats, randomSeeds, logTarget=True, boostKwargs=None):\n",
    "    outVals = list()\n",
    "    useModel = modelWrapHelp.XGBoostWrapper(inpFeats, trainPipe=TRAIN_PIPE,\n",
    "                                                 logTarget=logTarget,xgbKwargs=boostKwargs)\n",
    "    for seed in randomSeeds:\n",
    "        useX = inpFrame.copy()\n",
    "        useX = useX.sample(frac=1.0, random_state=seed)\n",
    "        currScore = np.mean( sk.model_selection.cross_val_score(useModel, useX) )\n",
    "        outVals.append(currScore)\n",
    "    return outVals\n",
    "\n",
    "\n"
   ]
  },
  {
   "cell_type": "code",
   "execution_count": 10,
   "id": "f25b61d3",
   "metadata": {},
   "outputs": [],
   "source": [
    "SINGLE_HP_MEANS_DICT = {}\n",
    "SINGLE_HP_STD_DICT = {}"
   ]
  },
  {
   "cell_type": "markdown",
   "id": "67854ac6",
   "metadata": {},
   "source": [
    "Vary estimators"
   ]
  },
  {
   "cell_type": "code",
   "execution_count": 11,
   "id": "f2a43bd4",
   "metadata": {
    "scrolled": true
   },
   "outputs": [
    {
     "name": "stdout",
     "output_type": "stream",
     "text": [
      " "
     ]
    }
   ],
   "source": [
    "%%prun\n",
    "#   84431324 function calls (83299809 primitive calls) in 243.458 seconds\n",
    "\n",
    "\n",
    "\n",
    "currKey = \"n_estimators\"\n",
    "currVals = [40,60,100,160, 500, 1000]\n",
    "\n",
    "if RERUN_SINGLE_HP:\n",
    "    currMeans, currStds = getMeanAndStdDevFromCV(currKey, currVals)\n",
    "    SINGLE_HP_MEANS_DICT[currKey] = [ [val,mean] for val,mean in zip(currVals,currMeans) ]\n",
    "    SINGLE_HP_STD_DICT[currKey] = [ [val,stdDev] for val,stdDev in zip(currVals,currStds) ]"
   ]
  },
  {
   "cell_type": "markdown",
   "id": "02f791a4",
   "metadata": {},
   "source": [
    "Vary max depth"
   ]
  },
  {
   "cell_type": "code",
   "execution_count": 12,
   "id": "94825acb",
   "metadata": {},
   "outputs": [
    {
     "name": "stdout",
     "output_type": "stream",
     "text": [
      " "
     ]
    }
   ],
   "source": [
    "%%prun\n",
    "# 108684879 function calls (107176407 primitive calls) in 304.464 seconds\n",
    "\n",
    "currKey = \"max_depth\"\n",
    "currVals = [2,3,4,5,6,7,8,9]\n",
    "\n",
    "\n",
    "if RERUN_SINGLE_HP:\n",
    "    currMeans, currStds = getMeanAndStdDevFromCV(currKey, currVals)\n",
    "    SINGLE_HP_MEANS_DICT[currKey] = [ [val,mean] for val,mean in zip(currVals,currMeans) ]\n",
    "    SINGLE_HP_STD_DICT[currKey] = [ [val,stdDev] for val,stdDev in zip(currVals,currStds) ]\n"
   ]
  },
  {
   "cell_type": "markdown",
   "id": "c9379225",
   "metadata": {},
   "source": [
    "Vary learning rate"
   ]
  },
  {
   "cell_type": "code",
   "execution_count": 13,
   "id": "1c77baf0",
   "metadata": {},
   "outputs": [
    {
     "name": "stdout",
     "output_type": "stream",
     "text": [
      " "
     ]
    }
   ],
   "source": [
    "%%prun\n",
    "# 122270601 function calls (120573570 primitive calls) in 347.643 seconds\n",
    "\n",
    "\n",
    "currKey = \"learning_rate\"\n",
    "currVals = [0.01, 0.02, 0.05, 0.1,0.2,0.3,0.4,0.5,0.6]\n",
    "\n",
    "\n",
    "if RERUN_SINGLE_HP:\n",
    "    currMeans, currStds = getMeanAndStdDevFromCV(currKey, currVals)\n",
    "    SINGLE_HP_MEANS_DICT[currKey] = [ [val,mean] for val,mean in zip(currVals,currMeans) ]\n",
    "    SINGLE_HP_STD_DICT[currKey] = [ [val,stdDev] for val,stdDev in zip(currVals,currStds) ]\n"
   ]
  },
  {
   "cell_type": "markdown",
   "id": "e9297a3c",
   "metadata": {},
   "source": [
    "Vary subsampling"
   ]
  },
  {
   "cell_type": "code",
   "execution_count": 14,
   "id": "d018d504",
   "metadata": {
    "scrolled": true
   },
   "outputs": [
    {
     "name": "stdout",
     "output_type": "stream",
     "text": [
      " "
     ]
    }
   ],
   "source": [
    "%%prun\n",
    "#\n",
    "currKey = \"subsample\"\n",
    "currVals = [0.2, 0.3, 0.5, 0.7, 0.8, 0.9, 1.0]\n",
    "\n",
    "\n",
    "if RERUN_SINGLE_HP:\n",
    "    currMeans, currStds = getMeanAndStdDevFromCV(currKey, currVals)\n",
    "    SINGLE_HP_MEANS_DICT[currKey] = [ [val,mean] for val,mean in zip(currVals,currMeans) ]\n",
    "    SINGLE_HP_STD_DICT[currKey] = [ [val,stdDev] for val,stdDev in zip(currVals,currStds) ]\n",
    "\n"
   ]
  },
  {
   "cell_type": "markdown",
   "id": "b91853ec",
   "metadata": {},
   "source": [
    "**Save or load the single params dicts; so i dont have to rerun everything**"
   ]
  },
  {
   "cell_type": "code",
   "execution_count": 15,
   "id": "153c689e",
   "metadata": {},
   "outputs": [],
   "source": [
    "_singleParamsPath_mean = os.path.join(SAVE_FOLDER, \"single_params_means\")\n",
    "_singleParamsPath_stdDev = os.path.join(SAVE_FOLDER, \"single_params_std_dev\")\n",
    "\n",
    "if RERUN_SINGLE_HP:\n",
    "    with open(_singleParamsPath_mean,\"wt\") as f:\n",
    "        json.dump(SINGLE_HP_MEANS_DICT, f)\n",
    "    with open(_singleParamsPath_stdDev,\"wt\") as f:\n",
    "        json.dump(SINGLE_HP_STD_DICT, f)\n",
    "\n",
    "else:\n",
    "    with open(_singleParamsPath_mean,\"rt\") as f:\n",
    "        SINGLE_HP_MEANS_DICT = json.load(f)\n",
    "    with open(_singleParamsPath_stdDev,\"rt\") as f:\n",
    "        SINGLE_HP_STD_DICT = json.load(f)\n",
    "        "
   ]
  },
  {
   "cell_type": "code",
   "execution_count": 16,
   "id": "6cb2bc0d",
   "metadata": {},
   "outputs": [
    {
     "data": {
      "text/plain": [
       "{'n_estimators': [[40, 0.12960006522843373],\n",
       "  [60, 0.1292509481007768],\n",
       "  [100, 0.1291346774338063],\n",
       "  [160, 0.12909613455698993],\n",
       "  [500, 0.12908647457645428],\n",
       "  [1000, 0.12908647457645428]],\n",
       " 'max_depth': [[2, 0.12562661174241965],\n",
       "  [3, 0.12646150962869307],\n",
       "  [4, 0.12783991815212634],\n",
       "  [5, 0.1285457677766244],\n",
       "  [6, 0.1291346774338063],\n",
       "  [7, 0.12988538171950922],\n",
       "  [8, 0.1306162497069297],\n",
       "  [9, 0.1319002826473588]],\n",
       " 'learning_rate': [[0.01, 4.234268382763611],\n",
       "  [0.02, 1.5463231591296722],\n",
       "  [0.05, 0.1459213683943196],\n",
       "  [0.1, 0.12307842412921235],\n",
       "  [0.2, 0.1261088861233925],\n",
       "  [0.3, 0.1291346774338063],\n",
       "  [0.4, 0.13571089250698126],\n",
       "  [0.5, 0.14303990871356898],\n",
       "  [0.6, 0.14443224956247813]],\n",
       " 'subsample': [[0.2, 0.1686653033320153],\n",
       "  [0.3, 0.1542346607926392],\n",
       "  [0.5, 0.1405042045092934],\n",
       "  [0.7, 0.13406846663608724],\n",
       "  [0.8, 0.13316560731321228],\n",
       "  [0.9, 0.13076249176074678],\n",
       "  [1.0, 0.1291346774338063]]}"
      ]
     },
     "execution_count": 16,
     "metadata": {},
     "output_type": "execute_result"
    }
   ],
   "source": [
    "SINGLE_HP_MEANS_DICT"
   ]
  },
  {
   "cell_type": "markdown",
   "id": "c6628ac3",
   "metadata": {},
   "source": [
    "**Make plots looking at the effect of varying parameters one at a time**"
   ]
  },
  {
   "cell_type": "code",
   "execution_count": 17,
   "id": "7db8bd6c",
   "metadata": {},
   "outputs": [],
   "source": [
    "#Create individual plotters for showing the mean and standard deviation\n",
    "_currKwargs = {\"fontSizeDefault\":10, \"gridLinesShowX\":True,\"lineMarkerStyles\":[\"x\"],\n",
    "               \"showMinorTickMarkersX\":True,\"xLabelStr\":\"Parameter Value\"}\n",
    "templPlotter = ppl.LinePlotter(**_currKwargs)\n",
    "\n",
    "meanTemplPlotter = templPlotter.createFactory(axisColorY='r', axisColorY_exclSpines=True,\n",
    "                                              lineColors=['r'], yLabelStr=\"Mean Loss\")\n",
    "stdTemplPlotter = templPlotter.createFactory(axisColorY='b', axisColorY_exclSpines=True,\n",
    "                                             lineColors=['b'], yLabelStr = \"Std-Dev Loss\")\n",
    "\n",
    "doubleAxTemplPlotter = ppl.DoubleAxisPlotter(independentYAxis=True)"
   ]
  },
  {
   "cell_type": "code",
   "execution_count": 18,
   "id": "2b5122a4",
   "metadata": {},
   "outputs": [],
   "source": [
    "usePlotters = list()\n",
    "for key in SINGLE_HP_MEANS_DICT.keys():\n",
    "    meanPlotter = meanTemplPlotter.createFactory(plotData=[SINGLE_HP_MEANS_DICT[key]], titleStr=key )\n",
    "    stdPlotter = stdTemplPlotter.createFactory(plotData=[SINGLE_HP_STD_DICT[key]], titleStr=key)\n",
    "    currPlotter = doubleAxTemplPlotter.createFactory(plotters=[meanPlotter, stdPlotter])\n",
    "    usePlotters.append(currPlotter)"
   ]
  },
  {
   "cell_type": "code",
   "execution_count": 19,
   "id": "5f3f16f6",
   "metadata": {},
   "outputs": [
    {
     "data": {
      "image/png": "[encoded data removed]",
      "text/plain": [
       "<Figure size 1000x500 with 8 Axes>"
      ]
     },
     "metadata": {},
     "output_type": "display_data"
    }
   ],
   "source": [
    "unused = RECT_PLOTTER.createPlot(plotters=usePlotters, nColsGrid=2, figWidthPerCol=5)"
   ]
  },
  {
   "cell_type": "markdown",
   "id": "181c610f",
   "metadata": {},
   "source": [
    "**Setup a space of hyperparameters**"
   ]
  },
  {
   "cell_type": "code",
   "execution_count": 20,
   "id": "6b99d8a1",
   "metadata": {},
   "outputs": [],
   "source": [
    "_nEstChoices = [40, 60, 80, 100, 120, 140]\n",
    "_learnRateChoices =  [0.05, 0.1, 0.15, 0.20]\n",
    "searchSpace = {\"maxDepth\": hyperopt.hp.uniformint(\"max_depth\", 2, 6),\n",
    "               \"nEstimators\": hyperopt.hp.choice(\"n_estimators\", _nEstChoices),\n",
    "               \"learnRate\": hyperopt.hp.choice(\"learning_rate\", _learnRateChoices) }"
   ]
  },
  {
   "cell_type": "markdown",
   "id": "16c6ce37",
   "metadata": {},
   "source": [
    "**setup the objective function**"
   ]
  },
  {
   "cell_type": "code",
   "execution_count": 21,
   "id": "44b2be99",
   "metadata": {},
   "outputs": [],
   "source": [
    "def objectiveFunction(searchSpace):\n",
    "    kwargs = {\"max_depth\": searchSpace[\"maxDepth\"], \"n_estimators\":searchSpace[\"nEstimators\"],\n",
    "              \"learning_rate\": searchSpace[\"learnRate\"]}\n",
    "    return np.mean( _calcScoresFromBoostKwargs(**kwargs)  )\n"
   ]
  },
  {
   "cell_type": "markdown",
   "id": "dee2b97a",
   "metadata": {},
   "source": [
    "**Run**"
   ]
  },
  {
   "cell_type": "code",
   "execution_count": 22,
   "id": "dc9cbcf2",
   "metadata": {
    "scrolled": true
   },
   "outputs": [
    {
     "name": "stdout",
     "output_type": "stream",
     "text": [
      " "
     ]
    }
   ],
   "source": [
    "%%prun\n",
    "#         680320425 function calls (670862638 primitive calls) in 1922.447 seconds\n",
    "trials = hyperopt.Trials()\n",
    "\n",
    "if RERUN_HYPEROPT:\n",
    "    best_hyperparams = hyperopt.fmin(fn = objectiveFunction,\n",
    "                            space = searchSpace,\n",
    "                            algo = hyperopt.tpe.suggest,\n",
    "                            max_evals = 50,\n",
    "                            trials = trials)"
   ]
  },
  {
   "cell_type": "markdown",
   "id": "29af0064",
   "metadata": {},
   "source": [
    "**Save or load the relevant Trials object**"
   ]
  },
  {
   "cell_type": "code",
   "execution_count": 23,
   "id": "10afcaee",
   "metadata": {},
   "outputs": [],
   "source": [
    "trialsSavePath = os.path.join(SAVE_FOLDER, \"trials.json\")\n",
    "\n",
    "if RERUN_HYPEROPT:\n",
    "    with open(trialsSavePath, 'wb') as f:\n",
    "        pickle.dump(trials, f)\n",
    "else:\n",
    "    with open(trialsSavePath, 'rb') as f:\n",
    "        trials = pickle.load(f)\n",
    "    \n"
   ]
  },
  {
   "cell_type": "markdown",
   "id": "d7d40081",
   "metadata": {},
   "source": [
    "**Look at the top N hyperparameter values**"
   ]
  },
  {
   "cell_type": "code",
   "execution_count": 24,
   "id": "3c8a244c",
   "metadata": {},
   "outputs": [],
   "source": [
    "def getTopNResultsFromTrials(inpTrails, choiceParamMaps, useParams, nVals):\n",
    "    sortedTrials = sorted(inpTrials, key = lambda x: x[\"result\"][\"loss\"])\n",
    "    outVals = list()\n",
    "    for trial in sortedTrials[:nVals]:\n",
    "        currDict = {}\n",
    "        currDict[\"loss\"] = trial[\"result\"][\"loss\"]\n",
    "        for param in useParams:\n",
    "            choiceParam = False\n",
    "            try:\n",
    "                choiceParamMaps[param]\n",
    "            except KeyError:\n",
    "                pass\n",
    "            else:\n",
    "                choiceParam = True\n",
    "\n",
    "            if choiceParam:\n",
    "                choiceMap = choiceParamMaps[param]\n",
    "                currDict[param] = choiceMap[ trial[\"misc\"][\"vals\"][param][0] ]\n",
    "            else:\n",
    "                currDict[param] = trial[\"misc\"][\"vals\"][param][0]\n",
    "        outVals.append(currDict)\n",
    "    return outVals"
   ]
  },
  {
   "cell_type": "code",
   "execution_count": 25,
   "id": "1daa3e53",
   "metadata": {},
   "outputs": [
    {
     "data": {
      "text/plain": [
       "[{'loss': 0.12223111673863299,\n",
       "  'learning_rate': 0.1,\n",
       "  'n_estimators': 140,\n",
       "  'max_depth': 4.0},\n",
       " {'loss': 0.12223111673863299,\n",
       "  'learning_rate': 0.1,\n",
       "  'n_estimators': 140,\n",
       "  'max_depth': 4.0},\n",
       " {'loss': 0.12223111673863299,\n",
       "  'learning_rate': 0.1,\n",
       "  'n_estimators': 140,\n",
       "  'max_depth': 4.0},\n",
       " {'loss': 0.12223111673863299,\n",
       "  'learning_rate': 0.1,\n",
       "  'n_estimators': 140,\n",
       "  'max_depth': 4.0},\n",
       " {'loss': 0.12223111673863299,\n",
       "  'learning_rate': 0.1,\n",
       "  'n_estimators': 140,\n",
       "  'max_depth': 4.0},\n",
       " {'loss': 0.12235656698553785,\n",
       "  'learning_rate': 0.1,\n",
       "  'n_estimators': 120,\n",
       "  'max_depth': 5.0},\n",
       " {'loss': 0.12238091689692057,\n",
       "  'learning_rate': 0.1,\n",
       "  'n_estimators': 140,\n",
       "  'max_depth': 5.0},\n",
       " {'loss': 0.12238091689692057,\n",
       "  'learning_rate': 0.1,\n",
       "  'n_estimators': 140,\n",
       "  'max_depth': 5.0},\n",
       " {'loss': 0.12238091689692057,\n",
       "  'learning_rate': 0.1,\n",
       "  'n_estimators': 140,\n",
       "  'max_depth': 5.0},\n",
       " {'loss': 0.12260451397312093,\n",
       "  'learning_rate': 0.1,\n",
       "  'n_estimators': 140,\n",
       "  'max_depth': 3.0},\n",
       " {'loss': 0.12260451397312093,\n",
       "  'learning_rate': 0.1,\n",
       "  'n_estimators': 140,\n",
       "  'max_depth': 3.0},\n",
       " {'loss': 0.12261893692540038,\n",
       "  'learning_rate': 0.1,\n",
       "  'n_estimators': 100,\n",
       "  'max_depth': 5.0},\n",
       " {'loss': 0.12283317182159034,\n",
       "  'learning_rate': 0.15,\n",
       "  'n_estimators': 140,\n",
       "  'max_depth': 3.0},\n",
       " {'loss': 0.1236170536347139,\n",
       "  'learning_rate': 0.1,\n",
       "  'n_estimators': 100,\n",
       "  'max_depth': 3.0},\n",
       " {'loss': 0.1238625804169348,\n",
       "  'learning_rate': 0.15,\n",
       "  'n_estimators': 120,\n",
       "  'max_depth': 4.0},\n",
       " {'loss': 0.12388064464796966,\n",
       "  'learning_rate': 0.05,\n",
       "  'n_estimators': 140,\n",
       "  'max_depth': 5.0},\n",
       " {'loss': 0.12408231187492416,\n",
       "  'learning_rate': 0.15,\n",
       "  'n_estimators': 80,\n",
       "  'max_depth': 4.0},\n",
       " {'loss': 0.12408231187492416,\n",
       "  'learning_rate': 0.15,\n",
       "  'n_estimators': 80,\n",
       "  'max_depth': 4.0},\n",
       " {'loss': 0.12413961718347533,\n",
       "  'learning_rate': 0.15,\n",
       "  'n_estimators': 80,\n",
       "  'max_depth': 5.0},\n",
       " {'loss': 0.12417863011756036,\n",
       "  'learning_rate': 0.15,\n",
       "  'n_estimators': 120,\n",
       "  'max_depth': 5.0}]"
      ]
     },
     "execution_count": 25,
     "metadata": {},
     "output_type": "execute_result"
    }
   ],
   "source": [
    "#\n",
    "inpTrials = trials\n",
    "choiceParamMaps = {\"learning_rate\":_learnRateChoices, \"n_estimators\":_nEstChoices}\n",
    "useParams = [\"learning_rate\", \"n_estimators\", \"max_depth\"]\n",
    "nVals = 20\n",
    "\n",
    "#\n",
    "getTopNResultsFromTrials(inpTrials, choiceParamMaps, useParams, nVals)"
   ]
  },
  {
   "cell_type": "code",
   "execution_count": null,
   "id": "20b4d7f0",
   "metadata": {},
   "outputs": [],
   "source": []
  },
  {
   "cell_type": "code",
   "execution_count": null,
   "id": "9c3cd7d0",
   "metadata": {},
   "outputs": [],
   "source": []
  }
 ],
 "metadata": {
  "kernelspec": {
   "display_name": "Python 3 (ipykernel)",
   "language": "python",
   "name": "python3"
  },
  "language_info": {
   "codemirror_mode": {
    "name": "ipython",
    "version": 3
   },
   "file_extension": ".py",
   "mimetype": "text/x-python",
   "name": "python",
   "nbconvert_exporter": "python",
   "pygments_lexer": "ipython3",
   "version": "3.10.6"
  }
 },
 "nbformat": 4,
 "nbformat_minor": 5
}
