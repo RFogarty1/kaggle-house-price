{
 "cells": [
  {
   "cell_type": "markdown",
   "id": "c48918ef",
   "metadata": {},
   "source": [
    "Fits to full training data, then predicts test data and dumps into a submission directory"
   ]
  },
  {
   "cell_type": "markdown",
   "id": "39b42d5f",
   "metadata": {},
   "source": [
    "**Imports**"
   ]
  },
  {
   "cell_type": "code",
   "execution_count": 1,
   "id": "61ae926b",
   "metadata": {},
   "outputs": [],
   "source": [
    "\n",
    "import os\n",
    "import pathlib\n",
    "\n",
    "import pandas as pd\n",
    "\n",
    "import sklearn as sk\n",
    "import sklearn.pipeline\n",
    "\n",
    "import project_path\n",
    "import model_wrappers as modelWrapHelp\n",
    "import preproc_pipes as preProcPipeHelp\n",
    "import train_pipes as trainPipeHelp\n",
    "\n"
   ]
  },
  {
   "cell_type": "markdown",
   "id": "728254ac",
   "metadata": {},
   "source": [
    "**Configuration variables**"
   ]
  },
  {
   "cell_type": "code",
   "execution_count": 2,
   "id": "d79c6df8",
   "metadata": {},
   "outputs": [],
   "source": [
    "#\n",
    "TRAIN_PATH = os.path.abspath( os.path.join(\"..\",\"..\",\"raw_data\",\"train.csv\")  )\n",
    "TEST_PATH  = os.path.abspath( os.path.join(\"..\",\"..\",\"raw_data\",\"test.csv\")  )\n",
    "\n",
    "SAVE_FOLDER = os.path.abspath( os.path.join(\"..\",\"..\",\"submissions\",\"submission_xgboost_a\") )"
   ]
  },
  {
   "cell_type": "code",
   "execution_count": 3,
   "id": "ad53ad74",
   "metadata": {},
   "outputs": [],
   "source": [
    "#Keywords for xgboost\n",
    "BOOST_KWARGS = {\"max_depth\":4, \"n_estimators\":140,\"learning_rate\":0.1}"
   ]
  },
  {
   "cell_type": "code",
   "execution_count": 4,
   "id": "b5249338",
   "metadata": {},
   "outputs": [],
   "source": [
    "#Also same features used for PCA\n",
    "FEATS_TO_CLUSTER = ['OverallQual','GrLivArea','TotalBsmtSF','Neighborhood_m10','BsmtFinSF1',\n",
    "            'GarageFinish','KitchenQual','GarageArea','SaleCondition_m10','LotArea',\n",
    "            'MoSold','LotShape', 'FireplaceQu','BsmtExposure', 'TotRmsAbvGrd',\n",
    "            'YearRemodAdd', 'MSSubClass','WoodDeckSF','MasVnrArea']\n",
    "N_KMEANS_CLUSTERS = 2\n",
    "\n",
    "#\n",
    "EXTRA_FEATS = [\"BsmtFractUnfurnished\", \"GarageAreaTimesFinish\", \"NumbBsmtBath\", \"NumbBath\",\n",
    "               \"OverallQualTimesCond\", \"PoolQualTimesCond\", \"PorchLikeArea\", \"Spaciousness\",\n",
    "               \"TotalSFLiv\", \"TotalSFLivOverLotArea\", \"YearSold_Fract\"]\n",
    "\n",
    "\n",
    "#\n",
    "TARG_ENC_FEATS = [\"Neighborhood\", \"Exterior1st\", \"Condition1\", \"HouseStyle\", \"GarageType\",\n",
    "                  \"Foundation\", \"LotConfig\", \"SaleType\", \"RoofMatl\", \"MSZoning\", \"SaleCondition\",\n",
    "                  \"RoofStyle\"]\n",
    "TARG_ENC_MVAL = 10\n",
    "\n",
    "#\n",
    "TOP_CMI = ['TotalSFLiv', 'YearBuilt', 'OverallQualTimesCond', 'BsmtUnfSF', 'LotArea',\n",
    "                  'GarageAreaTimesFinish', 'BsmtQual', 'Neighborhood', 'Neighborhood_m10',\n",
    "                  'TotRmsAbvGrd', 'PorchLikeArea',\n",
    "                  'SaleCondition', 'BsmtFinSF1', 'GrLivArea', 'KitchenQual', 'BsmtExposure',\n",
    "                  'BsmtFinType1', 'FireplaceQu', 'LandContour', 'HeatingQC', 'MasVnrArea']\n"
   ]
  },
  {
   "cell_type": "markdown",
   "id": "bafeca0a",
   "metadata": {},
   "source": [
    "**Define the features to use**"
   ]
  },
  {
   "cell_type": "code",
   "execution_count": 5,
   "id": "078c2d4a",
   "metadata": {},
   "outputs": [],
   "source": [
    "FEATS = list(TOP_CMI) + [\"clusterIdx\", \"cDist_0\", \"cDist_1\", \"clusterMinDist\"] + [\"pc_0\"]"
   ]
  },
  {
   "cell_type": "markdown",
   "id": "130bbcc9",
   "metadata": {},
   "source": [
    "**Create our save folder**"
   ]
  },
  {
   "cell_type": "code",
   "execution_count": 6,
   "id": "2036c16e",
   "metadata": {},
   "outputs": [],
   "source": [
    "pathlib.Path(SAVE_FOLDER).mkdir(exist_ok=True, parents=True)"
   ]
  },
  {
   "cell_type": "markdown",
   "id": "dc502efc",
   "metadata": {},
   "source": [
    "**Import data**"
   ]
  },
  {
   "cell_type": "code",
   "execution_count": 7,
   "id": "08724321",
   "metadata": {},
   "outputs": [],
   "source": [
    "RAW_TRAIN = pd.read_csv(TRAIN_PATH)\n",
    "RAW_TEST = pd.read_csv(TEST_PATH)"
   ]
  },
  {
   "cell_type": "markdown",
   "id": "008b96fc",
   "metadata": {},
   "source": [
    "**Create our pipeline for all processing**"
   ]
  },
  {
   "cell_type": "markdown",
   "id": "4f3f1aa7",
   "metadata": {},
   "source": [
    "No need for separate train/processing here; since we're fitting to ALL training data"
   ]
  },
  {
   "cell_type": "code",
   "execution_count": 8,
   "id": "3a8ffe1f",
   "metadata": {},
   "outputs": [],
   "source": [
    "#Remove anything from the training set i know to be an outlier [from results in other notebooks]\n",
    "_outlierIDs = [524, 945, 1299]\n",
    "\n",
    "#Features we add before any factorisation/cleaning\n",
    "_preFactorFeats = [\"FenceQual\", \"NumbStoreys_fromHouseStyle\"]\n",
    "\n",
    "#\n",
    "_ordEncoder = preProcPipeHelp.OrdinalEncoder( preProcPipeHelp.getStandardOrdinalEncodeKeys() )\n",
    "\n",
    "#\n",
    "_preProcComps = [ (\"Add some pre-factorisation features\", preProcPipeHelp.EngFeatureAdder(_preFactorFeats) ),\n",
    "                  (\"Remove outliers\", preProcPipeHelp.RemoveOutliersById(_outlierIDs) ),\n",
    "                 (\"Replace text values with basic ordinal encoding\", _ordEncoder),\n",
    "                 (\"Factorise any remaining categorical groups\", preProcPipeHelp.FactorizeRemainingCateGroups() ), ]\n"
   ]
  },
  {
   "cell_type": "code",
   "execution_count": 9,
   "id": "8f4eb817",
   "metadata": {},
   "outputs": [],
   "source": [
    "#\n",
    "_targEncodeTrain = trainPipeHelp.MEncodeMultiple(TARG_ENC_FEATS, mVal=TARG_ENC_MVAL)\n",
    "_pcaPipe = trainPipeHelp.AddPCA(FEATS_TO_CLUSTER, nComponents=1)\n",
    "_clusterPipe = trainPipeHelp.AddKMeansClusters(FEATS_TO_CLUSTER, N_KMEANS_CLUSTERS,useMinDist=True)\n",
    "\n",
    "_trainPipeComps = [ (\"Impute NaN values for numerical fields\", trainPipeHelp.TransformNumericalNaN()),\n",
    "                    (\"Add remaining engineered features\", preProcPipeHelp.EngFeatureAdder(EXTRA_FEATS) ),\n",
    "                    (\"Add target encoded features\", _targEncodeTrain ),\n",
    "                    (\"Add PCA component(s)\", _pcaPipe),\n",
    "                    (\"Add kmeans cluster information\", _clusterPipe)\n",
    "                  ]\n"
   ]
  },
  {
   "cell_type": "code",
   "execution_count": 10,
   "id": "e90af719",
   "metadata": {},
   "outputs": [],
   "source": [
    "PROC_PIPELINE = sk.pipeline.Pipeline(_preProcComps + _trainPipeComps)"
   ]
  },
  {
   "cell_type": "markdown",
   "id": "c921eb8a",
   "metadata": {},
   "source": [
    "**Process train and test data**"
   ]
  },
  {
   "cell_type": "code",
   "execution_count": 11,
   "id": "6ebf4a40",
   "metadata": {},
   "outputs": [
    {
     "name": "stderr",
     "output_type": "stream",
     "text": [
      "/home/richard/Work/random/learning_ml/kaggle_comps/house_prices_github/shared_code/train_pipes.py:247: SettingWithCopyWarning: \n",
      "A value is trying to be set on a copy of a slice from a DataFrame\n",
      "\n",
      "See the caveats in the documentation: https://pandas.pydata.org/pandas-docs/stable/user_guide/indexing.html#returning-a-view-versus-a-copy\n",
      "  inpFrame[inpField].loc[ nanFrame.index ] = inpFrame[replField].loc[ nanFrame.index ]\n",
      "/home/richard/Work/random/learning_ml/kaggle_comps/house_prices_github/shared_code/train_pipes.py:247: SettingWithCopyWarning: \n",
      "A value is trying to be set on a copy of a slice from a DataFrame\n",
      "\n",
      "See the caveats in the documentation: https://pandas.pydata.org/pandas-docs/stable/user_guide/indexing.html#returning-a-view-versus-a-copy\n",
      "  inpFrame[inpField].loc[ nanFrame.index ] = inpFrame[replField].loc[ nanFrame.index ]\n"
     ]
    }
   ],
   "source": [
    "PROC_TRAIN = PROC_PIPELINE.fit_transform(RAW_TRAIN)\n",
    "PROC_TEST = PROC_PIPELINE.transform(RAW_TEST)"
   ]
  },
  {
   "cell_type": "markdown",
   "id": "efd2d9f6",
   "metadata": {},
   "source": [
    "**Create a model**"
   ]
  },
  {
   "cell_type": "code",
   "execution_count": 12,
   "id": "082e777e",
   "metadata": {},
   "outputs": [
    {
     "data": {
      "text/html": [
       "<style>#sk-container-id-1 {color: black;background-color: white;}#sk-container-id-1 pre{padding: 0;}#sk-container-id-1 div.sk-toggleable {background-color: white;}#sk-container-id-1 label.sk-toggleable__label {cursor: pointer;display: block;width: 100%;margin-bottom: 0;padding: 0.3em;box-sizing: border-box;text-align: center;}#sk-container-id-1 label.sk-toggleable__label-arrow:before {content: \"▸\";float: left;margin-right: 0.25em;color: #696969;}#sk-container-id-1 label.sk-toggleable__label-arrow:hover:before {color: black;}#sk-container-id-1 div.sk-estimator:hover label.sk-toggleable__label-arrow:before {color: black;}#sk-container-id-1 div.sk-toggleable__content {max-height: 0;max-width: 0;overflow: hidden;text-align: left;background-color: #f0f8ff;}#sk-container-id-1 div.sk-toggleable__content pre {margin: 0.2em;color: black;border-radius: 0.25em;background-color: #f0f8ff;}#sk-container-id-1 input.sk-toggleable__control:checked~div.sk-toggleable__content {max-height: 200px;max-width: 100%;overflow: auto;}#sk-container-id-1 input.sk-toggleable__control:checked~label.sk-toggleable__label-arrow:before {content: \"▾\";}#sk-container-id-1 div.sk-estimator input.sk-toggleable__control:checked~label.sk-toggleable__label {background-color: #d4ebff;}#sk-container-id-1 div.sk-label input.sk-toggleable__control:checked~label.sk-toggleable__label {background-color: #d4ebff;}#sk-container-id-1 input.sk-hidden--visually {border: 0;clip: rect(1px 1px 1px 1px);clip: rect(1px, 1px, 1px, 1px);height: 1px;margin: -1px;overflow: hidden;padding: 0;position: absolute;width: 1px;}#sk-container-id-1 div.sk-estimator {font-family: monospace;background-color: #f0f8ff;border: 1px dotted black;border-radius: 0.25em;box-sizing: border-box;margin-bottom: 0.5em;}#sk-container-id-1 div.sk-estimator:hover {background-color: #d4ebff;}#sk-container-id-1 div.sk-parallel-item::after {content: \"\";width: 100%;border-bottom: 1px solid gray;flex-grow: 1;}#sk-container-id-1 div.sk-label:hover label.sk-toggleable__label {background-color: #d4ebff;}#sk-container-id-1 div.sk-serial::before {content: \"\";position: absolute;border-left: 1px solid gray;box-sizing: border-box;top: 0;bottom: 0;left: 50%;z-index: 0;}#sk-container-id-1 div.sk-serial {display: flex;flex-direction: column;align-items: center;background-color: white;padding-right: 0.2em;padding-left: 0.2em;position: relative;}#sk-container-id-1 div.sk-item {position: relative;z-index: 1;}#sk-container-id-1 div.sk-parallel {display: flex;align-items: stretch;justify-content: center;background-color: white;position: relative;}#sk-container-id-1 div.sk-item::before, #sk-container-id-1 div.sk-parallel-item::before {content: \"\";position: absolute;border-left: 1px solid gray;box-sizing: border-box;top: 0;bottom: 0;left: 50%;z-index: -1;}#sk-container-id-1 div.sk-parallel-item {display: flex;flex-direction: column;z-index: 1;position: relative;background-color: white;}#sk-container-id-1 div.sk-parallel-item:first-child::after {align-self: flex-end;width: 50%;}#sk-container-id-1 div.sk-parallel-item:last-child::after {align-self: flex-start;width: 50%;}#sk-container-id-1 div.sk-parallel-item:only-child::after {width: 0;}#sk-container-id-1 div.sk-dashed-wrapped {border: 1px dashed gray;margin: 0 0.4em 0.5em 0.4em;box-sizing: border-box;padding-bottom: 0.4em;background-color: white;}#sk-container-id-1 div.sk-label label {font-family: monospace;font-weight: bold;display: inline-block;line-height: 1.2em;}#sk-container-id-1 div.sk-label-container {text-align: center;}#sk-container-id-1 div.sk-container {/* jupyter's `normalize.less` sets `[hidden] { display: none; }` but bootstrap.min.css set `[hidden] { display: none !important; }` so we also need the `!important` here to be able to override the default hidden behavior on the sphinx rendered scikit-learn.org. See: https://github.com/scikit-learn/scikit-learn/issues/21755 */display: inline-block !important;position: relative;}#sk-container-id-1 div.sk-text-repr-fallback {display: none;}</style><div id=\"sk-container-id-1\" class=\"sk-top-container\"><div class=\"sk-text-repr-fallback\"><pre>XGBoostWrapper(feats=[&#x27;TotalSFLiv&#x27;, &#x27;YearBuilt&#x27;, &#x27;OverallQualTimesCond&#x27;,\n",
       "                      &#x27;BsmtUnfSF&#x27;, &#x27;LotArea&#x27;, &#x27;GarageAreaTimesFinish&#x27;,\n",
       "                      &#x27;BsmtQual&#x27;, &#x27;Neighborhood&#x27;, &#x27;Neighborhood_m10&#x27;,\n",
       "                      &#x27;TotRmsAbvGrd&#x27;, &#x27;PorchLikeArea&#x27;, &#x27;SaleCondition&#x27;,\n",
       "                      &#x27;BsmtFinSF1&#x27;, &#x27;GrLivArea&#x27;, &#x27;KitchenQual&#x27;, &#x27;BsmtExposure&#x27;,\n",
       "                      &#x27;BsmtFinType1&#x27;, &#x27;FireplaceQu&#x27;, &#x27;LandContour&#x27;, &#x27;HeatingQC&#x27;,\n",
       "                      &#x27;MasVnrArea&#x27;, &#x27;clusterIdx&#x27;, &#x27;cDist_0&#x27;, &#x27;cDist_1&#x27;,\n",
       "                      &#x27;clusterMinDist&#x27;, &#x27;pc_0&#x27;],\n",
       "               logTarget=True,\n",
       "               xgbKwargs={&#x27;learning_rate&#x27;: 0.1, &#x27;max_depth&#x27;: 4,\n",
       "                          &#x27;n_estimators&#x27;: 140})</pre><b>In a Jupyter environment, please rerun this cell to show the HTML representation or trust the notebook. <br />On GitHub, the HTML representation is unable to render, please try loading this page with nbviewer.org.</b></div><div class=\"sk-container\" hidden><div class=\"sk-item\"><div class=\"sk-estimator sk-toggleable\"><input class=\"sk-toggleable__control sk-hidden--visually\" id=\"sk-estimator-id-1\" type=\"checkbox\" checked><label for=\"sk-estimator-id-1\" class=\"sk-toggleable__label sk-toggleable__label-arrow\">XGBoostWrapper</label><div class=\"sk-toggleable__content\"><pre>XGBoostWrapper(feats=[&#x27;TotalSFLiv&#x27;, &#x27;YearBuilt&#x27;, &#x27;OverallQualTimesCond&#x27;,\n",
       "                      &#x27;BsmtUnfSF&#x27;, &#x27;LotArea&#x27;, &#x27;GarageAreaTimesFinish&#x27;,\n",
       "                      &#x27;BsmtQual&#x27;, &#x27;Neighborhood&#x27;, &#x27;Neighborhood_m10&#x27;,\n",
       "                      &#x27;TotRmsAbvGrd&#x27;, &#x27;PorchLikeArea&#x27;, &#x27;SaleCondition&#x27;,\n",
       "                      &#x27;BsmtFinSF1&#x27;, &#x27;GrLivArea&#x27;, &#x27;KitchenQual&#x27;, &#x27;BsmtExposure&#x27;,\n",
       "                      &#x27;BsmtFinType1&#x27;, &#x27;FireplaceQu&#x27;, &#x27;LandContour&#x27;, &#x27;HeatingQC&#x27;,\n",
       "                      &#x27;MasVnrArea&#x27;, &#x27;clusterIdx&#x27;, &#x27;cDist_0&#x27;, &#x27;cDist_1&#x27;,\n",
       "                      &#x27;clusterMinDist&#x27;, &#x27;pc_0&#x27;],\n",
       "               logTarget=True,\n",
       "               xgbKwargs={&#x27;learning_rate&#x27;: 0.1, &#x27;max_depth&#x27;: 4,\n",
       "                          &#x27;n_estimators&#x27;: 140})</pre></div></div></div></div></div>"
      ],
      "text/plain": [
       "XGBoostWrapper(feats=['TotalSFLiv', 'YearBuilt', 'OverallQualTimesCond',\n",
       "                      'BsmtUnfSF', 'LotArea', 'GarageAreaTimesFinish',\n",
       "                      'BsmtQual', 'Neighborhood', 'Neighborhood_m10',\n",
       "                      'TotRmsAbvGrd', 'PorchLikeArea', 'SaleCondition',\n",
       "                      'BsmtFinSF1', 'GrLivArea', 'KitchenQual', 'BsmtExposure',\n",
       "                      'BsmtFinType1', 'FireplaceQu', 'LandContour', 'HeatingQC',\n",
       "                      'MasVnrArea', 'clusterIdx', 'cDist_0', 'cDist_1',\n",
       "                      'clusterMinDist', 'pc_0'],\n",
       "               logTarget=True,\n",
       "               xgbKwargs={'learning_rate': 0.1, 'max_depth': 4,\n",
       "                          'n_estimators': 140})"
      ]
     },
     "execution_count": 12,
     "metadata": {},
     "output_type": "execute_result"
    }
   ],
   "source": [
    "MODEL = modelWrapHelp.XGBoostWrapper(FEATS, logTarget=True, xgbKwargs=BOOST_KWARGS)\n",
    "MODEL"
   ]
  },
  {
   "cell_type": "markdown",
   "id": "4d540792",
   "metadata": {},
   "source": [
    "**Fit the training data**"
   ]
  },
  {
   "cell_type": "code",
   "execution_count": 13,
   "id": "e6479e73",
   "metadata": {},
   "outputs": [
    {
     "data": {
      "text/html": [
       "<style>#sk-container-id-2 {color: black;background-color: white;}#sk-container-id-2 pre{padding: 0;}#sk-container-id-2 div.sk-toggleable {background-color: white;}#sk-container-id-2 label.sk-toggleable__label {cursor: pointer;display: block;width: 100%;margin-bottom: 0;padding: 0.3em;box-sizing: border-box;text-align: center;}#sk-container-id-2 label.sk-toggleable__label-arrow:before {content: \"▸\";float: left;margin-right: 0.25em;color: #696969;}#sk-container-id-2 label.sk-toggleable__label-arrow:hover:before {color: black;}#sk-container-id-2 div.sk-estimator:hover label.sk-toggleable__label-arrow:before {color: black;}#sk-container-id-2 div.sk-toggleable__content {max-height: 0;max-width: 0;overflow: hidden;text-align: left;background-color: #f0f8ff;}#sk-container-id-2 div.sk-toggleable__content pre {margin: 0.2em;color: black;border-radius: 0.25em;background-color: #f0f8ff;}#sk-container-id-2 input.sk-toggleable__control:checked~div.sk-toggleable__content {max-height: 200px;max-width: 100%;overflow: auto;}#sk-container-id-2 input.sk-toggleable__control:checked~label.sk-toggleable__label-arrow:before {content: \"▾\";}#sk-container-id-2 div.sk-estimator input.sk-toggleable__control:checked~label.sk-toggleable__label {background-color: #d4ebff;}#sk-container-id-2 div.sk-label input.sk-toggleable__control:checked~label.sk-toggleable__label {background-color: #d4ebff;}#sk-container-id-2 input.sk-hidden--visually {border: 0;clip: rect(1px 1px 1px 1px);clip: rect(1px, 1px, 1px, 1px);height: 1px;margin: -1px;overflow: hidden;padding: 0;position: absolute;width: 1px;}#sk-container-id-2 div.sk-estimator {font-family: monospace;background-color: #f0f8ff;border: 1px dotted black;border-radius: 0.25em;box-sizing: border-box;margin-bottom: 0.5em;}#sk-container-id-2 div.sk-estimator:hover {background-color: #d4ebff;}#sk-container-id-2 div.sk-parallel-item::after {content: \"\";width: 100%;border-bottom: 1px solid gray;flex-grow: 1;}#sk-container-id-2 div.sk-label:hover label.sk-toggleable__label {background-color: #d4ebff;}#sk-container-id-2 div.sk-serial::before {content: \"\";position: absolute;border-left: 1px solid gray;box-sizing: border-box;top: 0;bottom: 0;left: 50%;z-index: 0;}#sk-container-id-2 div.sk-serial {display: flex;flex-direction: column;align-items: center;background-color: white;padding-right: 0.2em;padding-left: 0.2em;position: relative;}#sk-container-id-2 div.sk-item {position: relative;z-index: 1;}#sk-container-id-2 div.sk-parallel {display: flex;align-items: stretch;justify-content: center;background-color: white;position: relative;}#sk-container-id-2 div.sk-item::before, #sk-container-id-2 div.sk-parallel-item::before {content: \"\";position: absolute;border-left: 1px solid gray;box-sizing: border-box;top: 0;bottom: 0;left: 50%;z-index: -1;}#sk-container-id-2 div.sk-parallel-item {display: flex;flex-direction: column;z-index: 1;position: relative;background-color: white;}#sk-container-id-2 div.sk-parallel-item:first-child::after {align-self: flex-end;width: 50%;}#sk-container-id-2 div.sk-parallel-item:last-child::after {align-self: flex-start;width: 50%;}#sk-container-id-2 div.sk-parallel-item:only-child::after {width: 0;}#sk-container-id-2 div.sk-dashed-wrapped {border: 1px dashed gray;margin: 0 0.4em 0.5em 0.4em;box-sizing: border-box;padding-bottom: 0.4em;background-color: white;}#sk-container-id-2 div.sk-label label {font-family: monospace;font-weight: bold;display: inline-block;line-height: 1.2em;}#sk-container-id-2 div.sk-label-container {text-align: center;}#sk-container-id-2 div.sk-container {/* jupyter's `normalize.less` sets `[hidden] { display: none; }` but bootstrap.min.css set `[hidden] { display: none !important; }` so we also need the `!important` here to be able to override the default hidden behavior on the sphinx rendered scikit-learn.org. See: https://github.com/scikit-learn/scikit-learn/issues/21755 */display: inline-block !important;position: relative;}#sk-container-id-2 div.sk-text-repr-fallback {display: none;}</style><div id=\"sk-container-id-2\" class=\"sk-top-container\"><div class=\"sk-text-repr-fallback\"><pre>XGBoostWrapper(feats=[&#x27;TotalSFLiv&#x27;, &#x27;YearBuilt&#x27;, &#x27;OverallQualTimesCond&#x27;,\n",
       "                      &#x27;BsmtUnfSF&#x27;, &#x27;LotArea&#x27;, &#x27;GarageAreaTimesFinish&#x27;,\n",
       "                      &#x27;BsmtQual&#x27;, &#x27;Neighborhood&#x27;, &#x27;Neighborhood_m10&#x27;,\n",
       "                      &#x27;TotRmsAbvGrd&#x27;, &#x27;PorchLikeArea&#x27;, &#x27;SaleCondition&#x27;,\n",
       "                      &#x27;BsmtFinSF1&#x27;, &#x27;GrLivArea&#x27;, &#x27;KitchenQual&#x27;, &#x27;BsmtExposure&#x27;,\n",
       "                      &#x27;BsmtFinType1&#x27;, &#x27;FireplaceQu&#x27;, &#x27;LandContour&#x27;, &#x27;HeatingQC&#x27;,\n",
       "                      &#x27;MasVnrArea&#x27;, &#x27;clusterIdx&#x27;, &#x27;cDist_0&#x27;, &#x27;cDist_1&#x27;,\n",
       "                      &#x27;clusterMinDist&#x27;, &#x27;pc_0&#x27;],\n",
       "               logTarget=True,\n",
       "               xgbKwargs={&#x27;learning_rate&#x27;: 0.1, &#x27;max_depth&#x27;: 4,\n",
       "                          &#x27;n_estimators&#x27;: 140})</pre><b>In a Jupyter environment, please rerun this cell to show the HTML representation or trust the notebook. <br />On GitHub, the HTML representation is unable to render, please try loading this page with nbviewer.org.</b></div><div class=\"sk-container\" hidden><div class=\"sk-item\"><div class=\"sk-estimator sk-toggleable\"><input class=\"sk-toggleable__control sk-hidden--visually\" id=\"sk-estimator-id-2\" type=\"checkbox\" checked><label for=\"sk-estimator-id-2\" class=\"sk-toggleable__label sk-toggleable__label-arrow\">XGBoostWrapper</label><div class=\"sk-toggleable__content\"><pre>XGBoostWrapper(feats=[&#x27;TotalSFLiv&#x27;, &#x27;YearBuilt&#x27;, &#x27;OverallQualTimesCond&#x27;,\n",
       "                      &#x27;BsmtUnfSF&#x27;, &#x27;LotArea&#x27;, &#x27;GarageAreaTimesFinish&#x27;,\n",
       "                      &#x27;BsmtQual&#x27;, &#x27;Neighborhood&#x27;, &#x27;Neighborhood_m10&#x27;,\n",
       "                      &#x27;TotRmsAbvGrd&#x27;, &#x27;PorchLikeArea&#x27;, &#x27;SaleCondition&#x27;,\n",
       "                      &#x27;BsmtFinSF1&#x27;, &#x27;GrLivArea&#x27;, &#x27;KitchenQual&#x27;, &#x27;BsmtExposure&#x27;,\n",
       "                      &#x27;BsmtFinType1&#x27;, &#x27;FireplaceQu&#x27;, &#x27;LandContour&#x27;, &#x27;HeatingQC&#x27;,\n",
       "                      &#x27;MasVnrArea&#x27;, &#x27;clusterIdx&#x27;, &#x27;cDist_0&#x27;, &#x27;cDist_1&#x27;,\n",
       "                      &#x27;clusterMinDist&#x27;, &#x27;pc_0&#x27;],\n",
       "               logTarget=True,\n",
       "               xgbKwargs={&#x27;learning_rate&#x27;: 0.1, &#x27;max_depth&#x27;: 4,\n",
       "                          &#x27;n_estimators&#x27;: 140})</pre></div></div></div></div></div>"
      ],
      "text/plain": [
       "XGBoostWrapper(feats=['TotalSFLiv', 'YearBuilt', 'OverallQualTimesCond',\n",
       "                      'BsmtUnfSF', 'LotArea', 'GarageAreaTimesFinish',\n",
       "                      'BsmtQual', 'Neighborhood', 'Neighborhood_m10',\n",
       "                      'TotRmsAbvGrd', 'PorchLikeArea', 'SaleCondition',\n",
       "                      'BsmtFinSF1', 'GrLivArea', 'KitchenQual', 'BsmtExposure',\n",
       "                      'BsmtFinType1', 'FireplaceQu', 'LandContour', 'HeatingQC',\n",
       "                      'MasVnrArea', 'clusterIdx', 'cDist_0', 'cDist_1',\n",
       "                      'clusterMinDist', 'pc_0'],\n",
       "               logTarget=True,\n",
       "               xgbKwargs={'learning_rate': 0.1, 'max_depth': 4,\n",
       "                          'n_estimators': 140})"
      ]
     },
     "execution_count": 13,
     "metadata": {},
     "output_type": "execute_result"
    }
   ],
   "source": [
    "MODEL.fit(PROC_TRAIN)"
   ]
  },
  {
   "cell_type": "markdown",
   "id": "54d7e0af",
   "metadata": {},
   "source": [
    "**Check we get a sensible error for the training data**"
   ]
  },
  {
   "cell_type": "code",
   "execution_count": 14,
   "id": "6ad5c1eb",
   "metadata": {},
   "outputs": [
    {
     "data": {
      "text/plain": [
       "0.06551185895059905"
      ]
     },
     "execution_count": 14,
     "metadata": {},
     "output_type": "execute_result"
    }
   ],
   "source": [
    "MODEL.score(PROC_TRAIN)"
   ]
  },
  {
   "cell_type": "markdown",
   "id": "43663f15",
   "metadata": {},
   "source": [
    "**Generate predictions for test set**"
   ]
  },
  {
   "cell_type": "code",
   "execution_count": 15,
   "id": "852c10c4",
   "metadata": {},
   "outputs": [],
   "source": [
    "PROC_TEST[\"SalePrice\"] = MODEL.predict(PROC_TEST)"
   ]
  },
  {
   "cell_type": "markdown",
   "id": "d3cd6ee2",
   "metadata": {},
   "source": [
    "**Write the predictions to a submission file**"
   ]
  },
  {
   "cell_type": "code",
   "execution_count": 16,
   "id": "6304a5b3",
   "metadata": {},
   "outputs": [],
   "source": [
    "outPath = os.path.join(SAVE_FOLDER, \"predictions.csv\")\n",
    "outFrame = PROC_TEST[[\"Id\",\"SalePrice\"]].set_index(\"Id\")\n",
    "outFrame.to_csv(outPath)"
   ]
  },
  {
   "cell_type": "code",
   "execution_count": 17,
   "id": "c2f1a21c",
   "metadata": {},
   "outputs": [
    {
     "data": {
      "text/html": [
       "<div>\n",
       "<style scoped>\n",
       "    .dataframe tbody tr th:only-of-type {\n",
       "        vertical-align: middle;\n",
       "    }\n",
       "\n",
       "    .dataframe tbody tr th {\n",
       "        vertical-align: top;\n",
       "    }\n",
       "\n",
       "    .dataframe thead th {\n",
       "        text-align: right;\n",
       "    }\n",
       "</style>\n",
       "<table border=\"1\" class=\"dataframe\">\n",
       "  <thead>\n",
       "    <tr style=\"text-align: right;\">\n",
       "      <th></th>\n",
       "      <th>SalePrice</th>\n",
       "    </tr>\n",
       "    <tr>\n",
       "      <th>Id</th>\n",
       "      <th></th>\n",
       "    </tr>\n",
       "  </thead>\n",
       "  <tbody>\n",
       "    <tr>\n",
       "      <th>1461</th>\n",
       "      <td>125745.328125</td>\n",
       "    </tr>\n",
       "    <tr>\n",
       "      <th>1462</th>\n",
       "      <td>168103.687500</td>\n",
       "    </tr>\n",
       "    <tr>\n",
       "      <th>1463</th>\n",
       "      <td>177132.078125</td>\n",
       "    </tr>\n",
       "    <tr>\n",
       "      <th>1464</th>\n",
       "      <td>207296.250000</td>\n",
       "    </tr>\n",
       "    <tr>\n",
       "      <th>1465</th>\n",
       "      <td>185117.671875</td>\n",
       "    </tr>\n",
       "    <tr>\n",
       "      <th>...</th>\n",
       "      <td>...</td>\n",
       "    </tr>\n",
       "    <tr>\n",
       "      <th>2915</th>\n",
       "      <td>90346.320312</td>\n",
       "    </tr>\n",
       "    <tr>\n",
       "      <th>2916</th>\n",
       "      <td>77511.054688</td>\n",
       "    </tr>\n",
       "    <tr>\n",
       "      <th>2917</th>\n",
       "      <td>169946.453125</td>\n",
       "    </tr>\n",
       "    <tr>\n",
       "      <th>2918</th>\n",
       "      <td>124391.210938</td>\n",
       "    </tr>\n",
       "    <tr>\n",
       "      <th>2919</th>\n",
       "      <td>219448.500000</td>\n",
       "    </tr>\n",
       "  </tbody>\n",
       "</table>\n",
       "<p>1459 rows × 1 columns</p>\n",
       "</div>"
      ],
      "text/plain": [
       "          SalePrice\n",
       "Id                 \n",
       "1461  125745.328125\n",
       "1462  168103.687500\n",
       "1463  177132.078125\n",
       "1464  207296.250000\n",
       "1465  185117.671875\n",
       "...             ...\n",
       "2915   90346.320312\n",
       "2916   77511.054688\n",
       "2917  169946.453125\n",
       "2918  124391.210938\n",
       "2919  219448.500000\n",
       "\n",
       "[1459 rows x 1 columns]"
      ]
     },
     "execution_count": 17,
     "metadata": {},
     "output_type": "execute_result"
    }
   ],
   "source": [
    "outFrame"
   ]
  },
  {
   "cell_type": "markdown",
   "id": "7e3a7933",
   "metadata": {},
   "source": [
    "**Kaggle Score = 0.13099**"
   ]
  },
  {
   "cell_type": "code",
   "execution_count": null,
   "id": "90fa756e",
   "metadata": {},
   "outputs": [],
   "source": []
  },
  {
   "cell_type": "code",
   "execution_count": null,
   "id": "1358ee82",
   "metadata": {},
   "outputs": [],
   "source": []
  },
  {
   "cell_type": "code",
   "execution_count": null,
   "id": "3db9332a",
   "metadata": {},
   "outputs": [],
   "source": []
  },
  {
   "cell_type": "code",
   "execution_count": null,
   "id": "86eec5ac",
   "metadata": {},
   "outputs": [],
   "source": []
  }
 ],
 "metadata": {
  "kernelspec": {
   "display_name": "Python 3 (ipykernel)",
   "language": "python",
   "name": "python3"
  },
  "language_info": {
   "codemirror_mode": {
    "name": "ipython",
    "version": 3
   },
   "file_extension": ".py",
   "mimetype": "text/x-python",
   "name": "python",
   "nbconvert_exporter": "python",
   "pygments_lexer": "ipython3",
   "version": "3.10.6"
  }
 },
 "nbformat": 4,
 "nbformat_minor": 5
}
